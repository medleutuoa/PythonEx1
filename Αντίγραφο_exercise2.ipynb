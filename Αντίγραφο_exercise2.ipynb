{
  "nbformat": 4,
  "nbformat_minor": 0,
  "metadata": {
    "colab": {
      "provenance": [],
      "include_colab_link": true
    },
    "kernelspec": {
      "name": "python3",
      "display_name": "Python 3"
    },
    "language_info": {
      "name": "python"
    }
  },
  "cells": [
    {
      "cell_type": "markdown",
      "metadata": {
        "id": "view-in-github",
        "colab_type": "text"
      },
      "source": [
        "<a href=\"https://colab.research.google.com/github/medleutuoa/PythonEx1/blob/main/%CE%91%CE%BD%CF%84%CE%AF%CE%B3%CF%81%CE%B1%CF%86%CE%BF_exercise2.ipynb\" target=\"_parent\"><img src=\"https://colab.research.google.com/assets/colab-badge.svg\" alt=\"Open In Colab\"/></a>"
      ]
    },
    {
      "cell_type": "markdown",
      "source": [
        "### **Άσκηση 1**\n",
        "\n",
        "Φτιάξτε ένα νέο κελί κώδικα (Code cell) ακριβώς κάτω από αυτό και κάνετε τα παρακάτω:\n",
        "\n",
        "- Δημιουργήστε μια κενή λίστα με όνομα usersL\n",
        "- Φτιάξτε μια μεταβλητή με όνομα email1 και τιμή ένα email\n",
        "- Βρείτε το index του \"@\" και αποθηκεύστε το σε μια μεταβλητή με όνομα at1\n",
        "- Πάρτε (slice) το τμήμα του mail που έχει μόνο το όνομα, αποθηκεύστε το σε μια μεταβλητή με όνομα user1 και βάλτε το στη λίστα usersL\n",
        "- Επαναλάβετε τα βήματα 2-4 άλλη 1 φορά (κάντε copy-paste και αλλάξτε ό,τι χρειάζεται)\n",
        "- Ταξινομήστε τα περιεχόμενα της λίστας με αύξουσα σειρά και\n",
        "- Τυπώστε τα περιεχόμενά της στην οθόνη\n",
        "\n",
        "Hints & Tips:\n",
        "\n",
        "- το index ενός χαρακτήρα σε ένα string, θα το βρείτε με τη μέθοδο .index()\n",
        "- η πρόσθεση ενός αντικειμένου σε μια λίστα γίνεται με το .append()\n",
        "- η ταξινόμηση με αύξουσα σειρά των αντικειμένων σε μια λίστα γίνεται με το .sort()\n",
        "- χρησιμοποιήστε όσα κελιά θέλετε έτσι ώστε να ελέγχετε τι κάνετε σε κάθε βήμα\n"
      ],
      "metadata": {
        "id": "ENRszEnFK9j5"
      }
    },
    {
      "cell_type": "code",
      "execution_count": null,
      "metadata": {
        "id": "nEY0waMjK8IF",
        "outputId": "ec982165-5607-40a4-c837-d3cd96e12fd8",
        "colab": {
          "base_uri": "https://localhost:8080/"
        }
      },
      "outputs": [
        {
          "output_type": "stream",
          "name": "stdout",
          "text": [
            "8\n",
            "['leuteris', 'phillip']\n"
          ]
        }
      ],
      "source": [
        "usersL = []\n",
        "email1 = \"leuteris@gmail.com\"\n",
        "print(email1.index(\"@\"))\n",
        "at1 = email1.index(\"@\")\n",
        "user1 = \"leuteris\"\n",
        "usersL.append(user1)\n",
        "email2 = \"phillip@gmail.com\"\n",
        "user2 = \"phillip\"\n",
        "usersL.append(user2)\n",
        "usersL.sort()\n",
        "print(usersL)\n"
      ]
    },
    {
      "cell_type": "markdown",
      "source": [
        "\n",
        "\n",
        "---\n",
        "\n"
      ],
      "metadata": {
        "id": "pyn5In2oQNo3"
      }
    },
    {
      "cell_type": "markdown",
      "source": [
        "### **Άσκηση 2**:\n",
        "\n",
        "Μια συνήθης τυποποιημένη μορφή καταγραφής της ημερομηνίας δημοσίευσης των άρθρων στα ειδησεογραφικά sites είναι η εξής: ```2025-03-04T12:07:19+02:00``` και ονομάζεται ```datetime```.\n",
        "\n",
        "- το κομμάτι ```2025-03-04``` αναφέρεται στα ```έτος-μήνας-ημέρα```\n",
        "- το ```Τ``` υποδηλώνει ότι ακολουθεί η ώρα\n",
        "- το κομμάτι ```12:07:19``` αναφέρεται στα ```ώρα:λεπτά:δευτερόλεπτα```\n",
        "- το κομμάτι ```+02:00``` αναφέρεται στη διαφορά ώρας σε σχέση με την Παγκόσμια Συντονισμένη Ώρα (UTC - Coordinated Universal Time).\n",
        "\n",
        "**Άσκηση**:\n",
        "\n",
        "Ξεκινώντας από μια μεταβλητή με όνομα dateTime και τιμή την παραπάνω ημερομηνία-ώρα (2025-03-04T12:07:19+02:00), δημιουργήστε δύο μεταβλητές με ονόματα Date και Time στις οποίες θα αποθηκεύσετε αντίστοιχα την ημερομηνία και την ώρα.\n",
        "\n",
        "Στη συνέχεια, χρησιμοποιώντας τις μεταβλητές Date και Time που φτιάξατε, δημιουργήστε μια νέα μεταβλητή με όνομα custom_datetime η τιμή της οποίας θα είναι ένα string που θα περιέχει την ημέρομηνία και την ώρα στη μορφή: \"έτος, μήνας, ημέρα, ώρα:λεπτά:δευτερόλεπτα\" και τυπώστε τη στην οθόνη.\n",
        "\n",
        "*Hints*:\n",
        "- η τιμή της μεταβλητής dateTime είναι string, άρα μπορούμε να δουλέψουμε με αυτή σαν να είναι λίστα και να απομονώσουμε κομμάτια της χρησιμοποιώντας το index του πρώτου χαρακτήρα και του επόμενου από τον τελευταίο χαρακτήρα που θέλουμε (π.χ. dateTime[firstIndex:lastIndex+1])\n",
        "- ο επόμενος από τον τελευταίο χαρακτήρα της ημερομηνίας είναι το \"Τ\"\n",
        "- ο επόμενος από τον τελευταίο χαρακτήρα της ώρας είναι το \"+\"\n",
        "- μπορούμε να βρούμε το index ενός χαρακτήρα σε ένα string με τη μέθοδο index()\n",
        "- μπορούμε να αντικαταστήσουμε έναν χαρακτήρα σε ένα string με έναν άλλο χαρακτήρα με την εντολή replace(). Π.χ. μπορούμε να αντικαταστήσουμε σε ένα string τα κόμματα με τελείες με την εντολή string1.replace(\",\", \".\")\n",
        "- μπορούμε να ενώσουμε strings με το +. Π.χ. string3 = string1 + \", \" + string2 (το \", \" παρεμβάλει ανάμεσα στα αρχικά strings ένα κόμμα ακολουθούμενο από ένα κενό)\n",
        "\n",
        "*Tips*:\n",
        "- γράψτε μία-μία τις εντολές σε διαφορετικά κελιά και τυπώνετε το αποτέλεσμα της κάθε εντολής για να ελέγχετε το τι κάνετε\n",
        "- συμβουλευτείτε / αποδεχθείτε τις προτάσεις που σας κάνει το Gemini καθώς πληκτρολογείτε τις εντολές, πατώντας Tab - κάνετε διορθώσεις όπου χρειάζεται.\n",
        "\n"
      ],
      "metadata": {
        "id": "BQA7FXLgFHKA"
      }
    },
    {
      "cell_type": "code",
      "source": [
        "dateTime = \"2025-03-04T12:07:19+02:00\"\n",
        "print(dateTime.index(\"4\"))\n"
      ],
      "metadata": {
        "id": "t5EU7g4uQFAP",
        "outputId": "08a9d22a-3ddc-479c-a52a-68e3621b5313",
        "colab": {
          "base_uri": "https://localhost:8080/"
        }
      },
      "execution_count": null,
      "outputs": [
        {
          "output_type": "stream",
          "name": "stdout",
          "text": [
            "9\n"
          ]
        }
      ]
    },
    {
      "cell_type": "code",
      "source": [
        "date = dateTime[0:10]\n",
        "print(date)"
      ],
      "metadata": {
        "id": "RuuVH34ORpUD",
        "outputId": "6e72dc28-770d-4ccb-b317-cd19f1f1a7f4",
        "colab": {
          "base_uri": "https://localhost:8080/"
        }
      },
      "execution_count": null,
      "outputs": [
        {
          "output_type": "stream",
          "name": "stdout",
          "text": [
            "2025-03-04\n"
          ]
        }
      ]
    },
    {
      "cell_type": "code",
      "source": [
        "print(dateTime.index(\"T\"), dateTime.index(\"+\"))\n",
        "time = dateTime [11:19]\n",
        "print(time)"
      ],
      "metadata": {
        "id": "HXpNUFQcTqTG",
        "outputId": "a97b5698-540c-4de9-c767-0e9390fae589",
        "colab": {
          "base_uri": "https://localhost:8080/"
        }
      },
      "execution_count": null,
      "outputs": [
        {
          "output_type": "stream",
          "name": "stdout",
          "text": [
            "10 19\n",
            "12:07:19\n"
          ]
        }
      ]
    },
    {
      "cell_type": "code",
      "source": [
        "custom_dateTime = date + \",\" + time\n",
        "print(custom_dateTime)"
      ],
      "metadata": {
        "id": "3kgr23rjUMhR",
        "colab": {
          "base_uri": "https://localhost:8080/"
        },
        "outputId": "0a458933-1864-49ac-fd49-0259b0ba6a4d"
      },
      "execution_count": null,
      "outputs": [
        {
          "output_type": "stream",
          "name": "stdout",
          "text": [
            "2025-03-04,12:07:19\n"
          ]
        }
      ]
    }
  ]
}