{
  "nbformat": 4,
  "nbformat_minor": 0,
  "metadata": {
    "colab": {
      "provenance": [],
      "include_colab_link": true
    },
    "kernelspec": {
      "name": "python3",
      "display_name": "Python 3"
    },
    "language_info": {
      "name": "python"
    }
  },
  "cells": [
    {
      "cell_type": "markdown",
      "metadata": {
        "id": "view-in-github",
        "colab_type": "text"
      },
      "source": [
        "<a href=\"https://colab.research.google.com/github/medleutuoa/PythonEx1/blob/main/_exercise1.ipynb\" target=\"_parent\"><img src=\"https://colab.research.google.com/assets/colab-badge.svg\" alt=\"Open In Colab\"/></a>"
      ]
    },
    {
      "cell_type": "markdown",
      "source": [
        "## Άσκηση 1\n",
        "\n",
        "Δημιουργήστε τις παρακάτω μεταβλητές:\n",
        "- όνομα\n",
        "- επώνυμο\n",
        "- αριθμός μητρώου\n",
        "- μάθημα 1\n",
        "- μάθημα 2\n",
        "- μάθημα 3\n",
        "- βαθμός μαθήματος 1\n",
        "- βαθμός μαθήματος 2\n",
        "- βαθμός μαθήματος 3\n",
        "\n",
        "Σε κάθε μεταβλητή δώστε το κατάλληλο όνομα (με αγγλικούς χαρακτήρες) και την αντίστοιχη τιμή, με το σωστό τύπο δεδομένων (string / integer).\n",
        "\n",
        "Τυπώστε στην οθόνη (print) τις τιμές όλων των μεταβλητών που ορίσατε.\n",
        "\n",
        "**Hints**:\n",
        "- όπου η τιμή είναι αριθμός, σκεφτείτε αν θα χρησιμοποιήσετε stirng ή integer, ανάλογα με το αν χρειάζεται να κάνετε αργότερα αριθμητικές πράξεις\n",
        "- χρησιμοποιήστε ονόματα μεταβλητών που να έχουν νόημα\n",
        "- εάν γράψετε όλες τις εντολές σε ένα κελί, όταν φτάσετε στο τέλος στο σημείο να γράψετε την εντολή `print`, το colab θα σας προτείνει να γράψετε μέσα στις παρενθέσεις όλες τις μεταβλητές. Πατήστε `tab` για να αποδεχτείτε την πρόταση που σας κάνει."
      ],
      "metadata": {
        "id": "JZISjhuEQFOB"
      }
    },
    {
      "cell_type": "code",
      "execution_count": null,
      "metadata": {
        "id": "cRnQhimEPhY0",
        "colab": {
          "base_uri": "https://localhost:8080/"
        },
        "outputId": "4b7ba392-0bfe-4028-c094-b052e43fc249"
      },
      "outputs": [
        {
          "output_type": "stream",
          "name": "stdout",
          "text": [
            "Lefteris Giannettou 9983202100021 Journalism Psychology Politics 10 10 8\n"
          ]
        }
      ],
      "source": [
        "firstName = \"Lefteris\"\n",
        "surname = \"Giannettou\"\n",
        "AM = \"9983202100021\"\n",
        "class_1 = \"Journalism\"\n",
        "class_2 = \"Psychology\"\n",
        "class_3 = \"Politics\"\n",
        "grade_1 = 10\n",
        "grade_2 = 10\n",
        "grade_3 = 8\n",
        "print(firstName, surname, AM, class_1, class_2, class_3, grade_1, grade_2, grade_3)"
      ]
    },
    {
      "cell_type": "markdown",
      "source": [
        "## Άσκηση 2\n",
        "\n",
        "Υπολογίστε το μέσο όρο των βαθμών των 3 μαθημάτων, αποθηκεύστε τον σε μια μεταβλητή και τυπώστε την τιμή της μεταβλητής του μέσου όρου στην οθόνη.\n",
        "\n",
        "**Hints**:\n",
        "- ο μέσος όρος υπολογίζεται με τη φόρμουλα: <άθροισμα επιμέρους τιμών> δια <πλήθος τιμών>\n",
        "- για τον υπολογισμό του αθροίσματος των επιμέρους τιμών χρησιμοποιήστε τα ονόματα των μεταβλητών των επιμέρους τιμών και όχι τις τιμές τους"
      ],
      "metadata": {
        "id": "uPD0W-qcWcfV"
      }
    },
    {
      "cell_type": "code",
      "source": [
        "ΜΟ = (grade_1+grade_2+grade_3)/3"
      ],
      "metadata": {
        "id": "Z0OnhXMURzMR"
      },
      "execution_count": null,
      "outputs": []
    },
    {
      "cell_type": "markdown",
      "source": [
        "Τυπώστε στην οθόνη τον τύπο δεδομένων της μεταβλητής του μέσου όρου."
      ],
      "metadata": {
        "id": "3lDi2k3iYoWe"
      }
    },
    {
      "cell_type": "code",
      "source": [
        "print(MO)"
      ],
      "metadata": {
        "id": "ET5xvgxTZAJb",
        "colab": {
          "base_uri": "https://localhost:8080/"
        },
        "outputId": "eb4fce60-5a1b-46a7-f6d5-36b2ee4f6c28"
      },
      "execution_count": null,
      "outputs": [
        {
          "output_type": "stream",
          "name": "stdout",
          "text": [
            "9.333333333333334\n"
          ]
        }
      ]
    },
    {
      "cell_type": "markdown",
      "source": [
        "Μετατρέψτε το μέσο όρο σε ακέραιο (integer) και τυπώστε το αποτέλεσμα στην οθόνη."
      ],
      "metadata": {
        "id": "y-QK_9DmZHAF"
      }
    },
    {
      "cell_type": "code",
      "source": [
        "MO = 9.333333333333334\n",
        "print(int(MO))"
      ],
      "metadata": {
        "id": "VV13wQMoR69T",
        "colab": {
          "base_uri": "https://localhost:8080/"
        },
        "outputId": "e5d38af8-ee57-4287-efd6-01c02412bd46"
      },
      "execution_count": null,
      "outputs": [
        {
          "output_type": "stream",
          "name": "stdout",
          "text": [
            "9\n"
          ]
        }
      ]
    },
    {
      "cell_type": "markdown",
      "source": [
        "## Άσκηση 3\n",
        "\n",
        "Δημιουργήστε ένα νέο κελί κώδικα.\n",
        "\n",
        "Μέσα στο κελί γράφει: Start coding or generate with AI. Πατήστε τη λέξη generate.\n",
        "\n",
        "Στο κελί Generate που εμφανίζεται γράψτε ένα prompt με το οποίο να του ζητάτε να αλλάξει τη μεταβλητή grade1 σε 5 και να ξαναϋπολογίσει και να τυπώσει τον μέσο όρο."
      ],
      "metadata": {
        "id": "1dhIvNXCecFf"
      }
    },
    {
      "cell_type": "code",
      "source": [
        "# prompt: Αλλαγή τιμής grade_1 σε 5 και υπολόγισε ξανά τον ΜΟ και τύπωσε ΜΟ\n",
        "\n",
        "grade_1 = 5\n",
        "ΜΟ = (grade_1 + grade_2 + grade_3) / 3\n",
        "print(ΜΟ)\n"
      ],
      "metadata": {
        "id": "Qqvc9WWYVLYH",
        "colab": {
          "base_uri": "https://localhost:8080/"
        },
        "outputId": "f33e2e7a-8407-4948-ea77-6def6b11d9b4"
      },
      "execution_count": null,
      "outputs": [
        {
          "output_type": "execute_result",
          "data": {
            "text/plain": [
              "7.666666666666667"
            ]
          },
          "metadata": {},
          "execution_count": 35
        }
      ]
    },
    {
      "cell_type": "markdown",
      "source": [
        "## Άσκηση 4\n",
        "\n",
        "Φτιάξτε μια λίστα με όνομα actorsL και βάλτε μέσα στη λίστα τα ονοματεπώνυμα 3 αγαπημένων σας ηθοποιών.\n",
        "\n",
        "Χρησιμοποιώντας το index, τυπώστε στην οθόνη:\n",
        "- το 2ο ονοματεπώνυμο της λίστας\n",
        "- το τελευταίο ονοματεπώνυμο της λίστας\n",
        "- τα 2 πρώτα ονοματεπώνυμα"
      ],
      "metadata": {
        "id": "_BaLrQrqV3jw"
      }
    },
    {
      "cell_type": "code",
      "source": [
        "actorsL = [\"Ian Somerhalder\", \"Sarah Paulson\", \"Evan Peters\"]\n",
        "print(actorsL[1])\n",
        "print(actorsL[-1])\n",
        "print(actorsL[0:2])"
      ],
      "metadata": {
        "id": "J8U-TfzMXVkx",
        "colab": {
          "base_uri": "https://localhost:8080/"
        },
        "outputId": "04d25ee9-3338-4dfd-a070-e272e579f004"
      },
      "execution_count": null,
      "outputs": [
        {
          "output_type": "stream",
          "name": "stdout",
          "text": [
            "Sarah Paulson\n",
            "Evan Peters\n",
            "['Ian Somerhalder', 'Sarah Paulson']\n"
          ]
        }
      ]
    }
  ]
}